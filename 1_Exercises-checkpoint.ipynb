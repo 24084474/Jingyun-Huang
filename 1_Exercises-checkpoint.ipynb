{
 "cells": [
  {
   "cell_type": "markdown",
   "id": "38e188a5",
   "metadata": {},
   "source": [
    "# Exercise 00\n",
    "Write a piece of code that allocates a list of 20 integers and initializes each element by its index multiplied by 5. Print the result."
   ]
  },
  {
   "cell_type": "code",
   "execution_count": 9,
   "id": "01aa4f35",
   "metadata": {},
   "outputs": [
    {
     "name": "stdout",
     "output_type": "stream",
     "text": [
      "[0, 5, 10, 15, 20, 25, 30, 35, 40, 45, 50, 55, 60, 65, 70, 75, 80, 85, 90, 95]\n",
      "15\n"
     ]
    }
   ],
   "source": [
    "myList = []\n",
    "\n",
    "for x in range(20):\n",
    "    x = x * 5\n",
    "    myList.append(x)\n",
    "    \n",
    "print(myList)"
   ]
  },
  {
   "cell_type": "markdown",
   "id": "529d91ae",
   "metadata": {},
   "source": [
    "# Exercise 01\n",
    "Define a function that takes an integer as input, prints  all integers that it is divisable by, and returns the largest one."
   ]
  },
  {
   "cell_type": "code",
   "execution_count": 39,
   "id": "30e79132",
   "metadata": {},
   "outputs": [
    {
     "name": "stdin",
     "output_type": "stream",
     "text": [
      " 34\n"
     ]
    },
    {
     "name": "stdout",
     "output_type": "stream",
     "text": [
      "1\n",
      "2\n",
      "17\n"
     ]
    },
    {
     "data": {
      "text/plain": [
       "17"
      ]
     },
     "execution_count": 39,
     "metadata": {},
     "output_type": "execute_result"
    }
   ],
   "source": [
    "def divisor(x):\n",
    "    for i in range(1,int(x/2)+1):\n",
    "        if x%i==0:\n",
    "            divisor = i\n",
    "            print(i)\n",
    "    return divisor\n",
    "\n",
    "x = int(input())\n",
    "divisor(x)"
   ]
  },
  {
   "cell_type": "markdown",
   "id": "cfbe30d4",
   "metadata": {},
   "source": [
    "# Exercise 02\n",
    "- create a dictionary with 6 keys and values of your choice\n",
    "- write a function that takes a dictionary and a value as input and returns whether the value occurs as a key in the dictionary\n",
    "- write a function that takes a dictionary as input, and returns the dictionary but the keys are swapped with their values (resolve the issue if a value occurs twice!)"
   ]
  },
  {
   "cell_type": "code",
   "execution_count": 5,
   "id": "2123f1c6",
   "metadata": {},
   "outputs": [
    {
     "name": "stdin",
     "output_type": "stream",
     "text": [
      "please enter a subject:  math\n"
     ]
    },
    {
     "name": "stdout",
     "output_type": "stream",
     "text": [
      "This subject is found: subject 2\n"
     ]
    }
   ],
   "source": [
    "myDict1 = {\n",
    "    'subject 1':'history',\n",
    "    'subject 2':'math',\n",
    "    'subject 3':'music',\n",
    "    'subject 4':'art',\n",
    "    'subject 5':'english',\n",
    "    'subject 6':'biology'}\n",
    "\n",
    "x = input(\"please enter a subject: \")\n",
    "\n",
    "if x in myDict1.values():\n",
    "    for key, value in myDict1.items():\n",
    "       if value == x:\n",
    "           print (\"This subject is found:\"+' '+key)\n",
    "else:\n",
    "    print(\"This subject is not found\")"
   ]
  },
  {
   "cell_type": "code",
   "execution_count": 49,
   "id": "eb4b8b25-3234-4b5c-b5ea-332c6ab693fc",
   "metadata": {},
   "outputs": [
    {
     "data": {
      "text/plain": [
       "{'history': 'subject 1',\n",
       " 'math': 'subject 2',\n",
       " 'music': 'subject 3',\n",
       " 'art': 'subject 4',\n",
       " 'english': 'subject 5',\n",
       " 'biology': 'subject 6'}"
      ]
     },
     "execution_count": 49,
     "metadata": {},
     "output_type": "execute_result"
    }
   ],
   "source": [
    "def myDict2(d):\n",
    "    myDict2 = {}\n",
    "    for y in d.keys():\n",
    "        myDict2[d[y]]=y\n",
    "    return myDict2\n",
    "myDict2(myDict1)"
   ]
  },
  {
   "cell_type": "code",
   "execution_count": 22,
   "id": "c92de791-94de-46c3-aa99-1eadfb2d2caa",
   "metadata": {},
   "outputs": [
    {
     "data": {
      "text/plain": [
       "{'history': 'subject 1',\n",
       " 'math': ['subject 2', 'subject 4'],\n",
       " 'music': 'subject 3',\n",
       " 'english': 'subject 5',\n",
       " 'art': 'subject 6'}"
      ]
     },
     "execution_count": 22,
     "metadata": {},
     "output_type": "execute_result"
    }
   ],
   "source": [
    "dict1 = {\n",
    "    'subject 1':'history',\n",
    "    'subject 2':'math',\n",
    "    'subject 3':'music',\n",
    "    'subject 4':'math',\n",
    "    'subject 5':'english',\n",
    "    'subject 6':'art'}\n",
    "\n",
    "def myDict3(e):\n",
    "    newDict = {}\n",
    "    for k in e.keys():\n",
    "        if e[k] in newDict:\n",
    "            cv = newDict[e[k]]\n",
    "            newDict[e[k]] = [cv, k]\n",
    "        else:\n",
    "            newDict[e[k]] = k\n",
    "    return newDict\n",
    "    \n",
    "myDict3(dict1)           \n",
    "    "
   ]
  },
  {
   "cell_type": "markdown",
   "id": "b4b4e426",
   "metadata": {},
   "source": [
    "# Exercise 03\n",
    "Define a function that creates a dictionary of the first n fibonacci numbers as values paired with their indices as keys. "
   ]
  },
  {
   "cell_type": "code",
   "execution_count": 74,
   "id": "7845b5a4",
   "metadata": {},
   "outputs": [
    {
     "data": {
      "text/plain": [
       "{0: 0, 1: 1, 2: 1, 3: 2, 4: 3, 5: 5, 6: 8, 7: 13, 8: 21, 9: 34}"
      ]
     },
     "execution_count": 74,
     "metadata": {},
     "output_type": "execute_result"
    }
   ],
   "source": [
    "def fibonacciDict(d):\n",
    "    fibonacci = {}\n",
    "    v1 = 0\n",
    "    v2 = 1\n",
    "    for i in range(d):\n",
    "        fibonacci[i]=v1\n",
    "        v3 = v1 + v2\n",
    "        v1 = v2\n",
    "        v2 = v3\n",
    "    return fibonacci\n",
    "\n",
    "fibonacciDict(10)"
   ]
  }
 ],
 "metadata": {
  "kernelspec": {
   "display_name": "Python 3 (ipykernel)",
   "language": "python",
   "name": "python3"
  },
  "language_info": {
   "codemirror_mode": {
    "name": "ipython",
    "version": 3
   },
   "file_extension": ".py",
   "mimetype": "text/x-python",
   "name": "python",
   "nbconvert_exporter": "python",
   "pygments_lexer": "ipython3",
   "version": "3.12.4"
  }
 },
 "nbformat": 4,
 "nbformat_minor": 5
}
